{
  "nbformat": 4,
  "nbformat_minor": 0,
  "metadata": {
    "colab": {
      "name": "ChatBotHoon.ipynb",
      "provenance": [],
      "authorship_tag": "ABX9TyOZzXH2Opj1VF27B03cO57F",
      "include_colab_link": true
    },
    "kernelspec": {
      "name": "python3",
      "display_name": "Python 3"
    }
  },
  "cells": [
    {
      "cell_type": "markdown",
      "metadata": {
        "id": "view-in-github",
        "colab_type": "text"
      },
      "source": [
        "<a href=\"https://colab.research.google.com/github/spps-supalerk/ChatBot/blob/main/ChatBotHoon.ipynb\" target=\"_parent\"><img src=\"https://colab.research.google.com/assets/colab-badge.svg\" alt=\"Open In Colab\"/></a>"
      ]
    },
    {
      "cell_type": "code",
      "metadata": {
        "colab": {
          "base_uri": "https://localhost:8080/"
        },
        "id": "cOLREEHS_IA4",
        "outputId": "14820bdd-d083-4d9d-a5ca-092cf90d0fe1"
      },
      "source": [
        "!pip install pythainlp\r\n",
        "!pip install deepcut\r\n",
        "!pip install fuzzywuzzy"
      ],
      "execution_count": 1,
      "outputs": [
        {
          "output_type": "stream",
          "text": [
            "Requirement already satisfied: pythainlp in /usr/local/lib/python3.6/dist-packages (2.2.6)\n",
            "Requirement already satisfied: requests>=2.22.0 in /usr/local/lib/python3.6/dist-packages (from pythainlp) (2.23.0)\n",
            "Requirement already satisfied: tinydb>=3.0 in /usr/local/lib/python3.6/dist-packages (from pythainlp) (4.3.0)\n",
            "Requirement already satisfied: python-crfsuite>=0.9.6 in /usr/local/lib/python3.6/dist-packages (from pythainlp) (0.9.7)\n",
            "Requirement already satisfied: certifi>=2017.4.17 in /usr/local/lib/python3.6/dist-packages (from requests>=2.22.0->pythainlp) (2020.12.5)\n",
            "Requirement already satisfied: urllib3!=1.25.0,!=1.25.1,<1.26,>=1.21.1 in /usr/local/lib/python3.6/dist-packages (from requests>=2.22.0->pythainlp) (1.24.3)\n",
            "Requirement already satisfied: idna<3,>=2.5 in /usr/local/lib/python3.6/dist-packages (from requests>=2.22.0->pythainlp) (2.10)\n",
            "Requirement already satisfied: chardet<4,>=3.0.2 in /usr/local/lib/python3.6/dist-packages (from requests>=2.22.0->pythainlp) (3.0.4)\n",
            "Requirement already satisfied: deepcut in /usr/local/lib/python3.6/dist-packages (0.7.0.0)\n",
            "Requirement already satisfied: h5py in /usr/local/lib/python3.6/dist-packages (from deepcut) (2.10.0)\n",
            "Requirement already satisfied: scipy in /usr/local/lib/python3.6/dist-packages (from deepcut) (1.4.1)\n",
            "Requirement already satisfied: tensorflow>=2.0.0 in /usr/local/lib/python3.6/dist-packages (from deepcut) (2.4.0)\n",
            "Requirement already satisfied: pandas in /usr/local/lib/python3.6/dist-packages (from deepcut) (1.1.5)\n",
            "Requirement already satisfied: scikit-learn in /usr/local/lib/python3.6/dist-packages (from deepcut) (0.22.2.post1)\n",
            "Requirement already satisfied: numpy in /usr/local/lib/python3.6/dist-packages (from deepcut) (1.19.4)\n",
            "Requirement already satisfied: six in /usr/local/lib/python3.6/dist-packages (from h5py->deepcut) (1.15.0)\n",
            "Requirement already satisfied: wrapt~=1.12.1 in /usr/local/lib/python3.6/dist-packages (from tensorflow>=2.0.0->deepcut) (1.12.1)\n",
            "Requirement already satisfied: opt-einsum~=3.3.0 in /usr/local/lib/python3.6/dist-packages (from tensorflow>=2.0.0->deepcut) (3.3.0)\n",
            "Requirement already satisfied: absl-py~=0.10 in /usr/local/lib/python3.6/dist-packages (from tensorflow>=2.0.0->deepcut) (0.10.0)\n",
            "Requirement already satisfied: astunparse~=1.6.3 in /usr/local/lib/python3.6/dist-packages (from tensorflow>=2.0.0->deepcut) (1.6.3)\n",
            "Requirement already satisfied: tensorboard~=2.4 in /usr/local/lib/python3.6/dist-packages (from tensorflow>=2.0.0->deepcut) (2.4.0)\n",
            "Requirement already satisfied: gast==0.3.3 in /usr/local/lib/python3.6/dist-packages (from tensorflow>=2.0.0->deepcut) (0.3.3)\n",
            "Requirement already satisfied: wheel~=0.35 in /usr/local/lib/python3.6/dist-packages (from tensorflow>=2.0.0->deepcut) (0.36.2)\n",
            "Requirement already satisfied: protobuf>=3.9.2 in /usr/local/lib/python3.6/dist-packages (from tensorflow>=2.0.0->deepcut) (3.12.4)\n",
            "Requirement already satisfied: termcolor~=1.1.0 in /usr/local/lib/python3.6/dist-packages (from tensorflow>=2.0.0->deepcut) (1.1.0)\n",
            "Requirement already satisfied: google-pasta~=0.2 in /usr/local/lib/python3.6/dist-packages (from tensorflow>=2.0.0->deepcut) (0.2.0)\n",
            "Requirement already satisfied: grpcio~=1.32.0 in /usr/local/lib/python3.6/dist-packages (from tensorflow>=2.0.0->deepcut) (1.32.0)\n",
            "Requirement already satisfied: keras-preprocessing~=1.1.2 in /usr/local/lib/python3.6/dist-packages (from tensorflow>=2.0.0->deepcut) (1.1.2)\n",
            "Requirement already satisfied: typing-extensions~=3.7.4 in /usr/local/lib/python3.6/dist-packages (from tensorflow>=2.0.0->deepcut) (3.7.4.3)\n",
            "Requirement already satisfied: flatbuffers~=1.12.0 in /usr/local/lib/python3.6/dist-packages (from tensorflow>=2.0.0->deepcut) (1.12)\n",
            "Requirement already satisfied: tensorflow-estimator<2.5.0,>=2.4.0rc0 in /usr/local/lib/python3.6/dist-packages (from tensorflow>=2.0.0->deepcut) (2.4.0)\n",
            "Requirement already satisfied: pytz>=2017.2 in /usr/local/lib/python3.6/dist-packages (from pandas->deepcut) (2018.9)\n",
            "Requirement already satisfied: python-dateutil>=2.7.3 in /usr/local/lib/python3.6/dist-packages (from pandas->deepcut) (2.8.1)\n",
            "Requirement already satisfied: joblib>=0.11 in /usr/local/lib/python3.6/dist-packages (from scikit-learn->deepcut) (1.0.0)\n",
            "Requirement already satisfied: markdown>=2.6.8 in /usr/local/lib/python3.6/dist-packages (from tensorboard~=2.4->tensorflow>=2.0.0->deepcut) (3.3.3)\n",
            "Requirement already satisfied: google-auth-oauthlib<0.5,>=0.4.1 in /usr/local/lib/python3.6/dist-packages (from tensorboard~=2.4->tensorflow>=2.0.0->deepcut) (0.4.2)\n",
            "Requirement already satisfied: setuptools>=41.0.0 in /usr/local/lib/python3.6/dist-packages (from tensorboard~=2.4->tensorflow>=2.0.0->deepcut) (50.3.2)\n",
            "Requirement already satisfied: google-auth<2,>=1.6.3 in /usr/local/lib/python3.6/dist-packages (from tensorboard~=2.4->tensorflow>=2.0.0->deepcut) (1.17.2)\n",
            "Requirement already satisfied: tensorboard-plugin-wit>=1.6.0 in /usr/local/lib/python3.6/dist-packages (from tensorboard~=2.4->tensorflow>=2.0.0->deepcut) (1.7.0)\n",
            "Requirement already satisfied: werkzeug>=0.11.15 in /usr/local/lib/python3.6/dist-packages (from tensorboard~=2.4->tensorflow>=2.0.0->deepcut) (1.0.1)\n",
            "Requirement already satisfied: requests<3,>=2.21.0 in /usr/local/lib/python3.6/dist-packages (from tensorboard~=2.4->tensorflow>=2.0.0->deepcut) (2.23.0)\n",
            "Requirement already satisfied: importlib-metadata; python_version < \"3.8\" in /usr/local/lib/python3.6/dist-packages (from markdown>=2.6.8->tensorboard~=2.4->tensorflow>=2.0.0->deepcut) (3.3.0)\n",
            "Requirement already satisfied: requests-oauthlib>=0.7.0 in /usr/local/lib/python3.6/dist-packages (from google-auth-oauthlib<0.5,>=0.4.1->tensorboard~=2.4->tensorflow>=2.0.0->deepcut) (1.3.0)\n",
            "Requirement already satisfied: cachetools<5.0,>=2.0.0 in /usr/local/lib/python3.6/dist-packages (from google-auth<2,>=1.6.3->tensorboard~=2.4->tensorflow>=2.0.0->deepcut) (4.2.0)\n",
            "Requirement already satisfied: rsa<5,>=3.1.4; python_version >= \"3\" in /usr/local/lib/python3.6/dist-packages (from google-auth<2,>=1.6.3->tensorboard~=2.4->tensorflow>=2.0.0->deepcut) (4.6)\n",
            "Requirement already satisfied: pyasn1-modules>=0.2.1 in /usr/local/lib/python3.6/dist-packages (from google-auth<2,>=1.6.3->tensorboard~=2.4->tensorflow>=2.0.0->deepcut) (0.2.8)\n",
            "Requirement already satisfied: certifi>=2017.4.17 in /usr/local/lib/python3.6/dist-packages (from requests<3,>=2.21.0->tensorboard~=2.4->tensorflow>=2.0.0->deepcut) (2020.12.5)\n",
            "Requirement already satisfied: urllib3!=1.25.0,!=1.25.1,<1.26,>=1.21.1 in /usr/local/lib/python3.6/dist-packages (from requests<3,>=2.21.0->tensorboard~=2.4->tensorflow>=2.0.0->deepcut) (1.24.3)\n",
            "Requirement already satisfied: idna<3,>=2.5 in /usr/local/lib/python3.6/dist-packages (from requests<3,>=2.21.0->tensorboard~=2.4->tensorflow>=2.0.0->deepcut) (2.10)\n",
            "Requirement already satisfied: chardet<4,>=3.0.2 in /usr/local/lib/python3.6/dist-packages (from requests<3,>=2.21.0->tensorboard~=2.4->tensorflow>=2.0.0->deepcut) (3.0.4)\n",
            "Requirement already satisfied: zipp>=0.5 in /usr/local/lib/python3.6/dist-packages (from importlib-metadata; python_version < \"3.8\"->markdown>=2.6.8->tensorboard~=2.4->tensorflow>=2.0.0->deepcut) (3.4.0)\n",
            "Requirement already satisfied: oauthlib>=3.0.0 in /usr/local/lib/python3.6/dist-packages (from requests-oauthlib>=0.7.0->google-auth-oauthlib<0.5,>=0.4.1->tensorboard~=2.4->tensorflow>=2.0.0->deepcut) (3.1.0)\n",
            "Requirement already satisfied: pyasn1>=0.1.3 in /usr/local/lib/python3.6/dist-packages (from rsa<5,>=3.1.4; python_version >= \"3\"->google-auth<2,>=1.6.3->tensorboard~=2.4->tensorflow>=2.0.0->deepcut) (0.4.8)\n",
            "Requirement already satisfied: fuzzywuzzy in /usr/local/lib/python3.6/dist-packages (0.18.0)\n"
          ],
          "name": "stdout"
        }
      ]
    },
    {
      "cell_type": "code",
      "metadata": {
        "id": "t4bK3F3i_A5U"
      },
      "source": [
        "class StockInfoSearch():\r\n",
        "  def __init__(self, all_symbol:list, question_cat, question, general_question_cat, general_question, general_answer_cat, general_answer, answer_df, Tfidfvec_q, Tfidfvec_a):\r\n",
        "    # Import necessary library\r\n",
        "    import re\r\n",
        "    from pythainlp.corpus import thai_stopwords\r\n",
        "    from fuzzywuzzy import fuzz \r\n",
        "    from fuzzywuzzy import process\r\n",
        "    from pythainlp.tokenize import word_tokenize\r\n",
        "    from sklearn.feature_extraction.text import TfidfVectorizer\r\n",
        "    from sklearn.metrics.pairwise import cosine_similarity\r\n",
        "\r\n",
        "    # Set Class Attribute\r\n",
        "    self.all_symbol = all_symbol\r\n",
        "    self.question_cat = question_cat\r\n",
        "    self.question = question\r\n",
        "    self.answer_df = answer_df\r\n",
        "    self.th_stopwords = thai_stopwords()\r\n",
        "    self.general_question_cat = general_question_cat\r\n",
        "    self.general_question = general_question\r\n",
        "    self.general_answer_cat = general_answer_cat\r\n",
        "    self.general_answer = general_answer\r\n",
        "    self.Tfidfvec_q = Tfidfvec_q\r\n",
        "    self.Tfidfvec_a = Tfidfvec_a\r\n",
        "    self.match_index_nostk = None\r\n",
        "    self.query = None\r\n",
        "    self.final_stock_name = None\r\n",
        "    self.cleaned_question = None\r\n",
        "    self.final_question = None\r\n",
        "    self.match_index_noans = None\r\n",
        "    self.final_answer = None\r\n",
        "\r\n",
        "  def get_query(self, query):\r\n",
        "    # deal with upper case\r\n",
        "    self.query = query.upper()\r\n",
        "\r\n",
        "  def get_stock_name(self):\r\n",
        "    # find all possible stock name\r\n",
        "    names_lst = re.findall('[A-Z1-9-]+', self.query)\r\n",
        "    stock_names = [name.strip() for name in names_lst if name in self.all_symbol]\r\n",
        "\r\n",
        "    # check no. stock & check PE\r\n",
        "    len_stock_names = len(stock_names)\r\n",
        "    if len_stock_names == 1:\r\n",
        "      if 'PE' in stock_names:\r\n",
        "        while True:\r\n",
        "          stock_name_pe = input('น้องมีเงิน : ต้องการดูหุ้นที่ชื่อว่า PE กด 1 \\nต้องการดู Price to Earning (P/E) กด 2\\nหยุดการทำงาน กด enter\\n')\r\n",
        "          if stock_name_pe == '1':\r\n",
        "            self.final_stock_name = stock_names\r\n",
        "            break            \r\n",
        "\r\n",
        "          elif stock_name_pe == '2':\r\n",
        "            stock_names.remove('PE')\r\n",
        "            self.final_stock_name = 'No stock value'\r\n",
        "            break\r\n",
        "\r\n",
        "          elif stock_name_pe == '':\r\n",
        "            self.final_stock_name = ''\r\n",
        "            break\r\n",
        "\r\n",
        "          else:\r\n",
        "            print('น้องมีเงิน : กรุณากรอกรหัสให้ถูกต้อง\\n')        \r\n",
        "      else:\r\n",
        "        self.final_stock_name = stock_names\r\n",
        "\r\n",
        "    elif len_stock_names >= 2:\r\n",
        "      if 'PE' in stock_names:\r\n",
        "        while True:\r\n",
        "          stock_name_pe = input('น้องมีเงิน : ต้องการดูหุ้นที่ชื่อว่า PE กด 1 \\nต้องการดู Price to Earning (P/E) กด 2\\nหยุดการทำงาน กด enter\\n')\r\n",
        "          if stock_name_pe == '1':\r\n",
        "            self.final_stock_name = stock_names\r\n",
        "            break            \r\n",
        "\r\n",
        "          elif stock_name_pe == '2':\r\n",
        "            stock_names.remove('PE')\r\n",
        "            self.final_stock_name = stock_names\r\n",
        "            break\r\n",
        "\r\n",
        "          elif stock_name_pe == '':\r\n",
        "            self.final_stock_name = ''\r\n",
        "            break\r\n",
        "\r\n",
        "          else:\r\n",
        "            print('น้องมีเงิน : กรุณากรอกรหัสให้ถูกต้อง\\n')\r\n",
        "\r\n",
        "    elif len_stock_names == 0:\r\n",
        "      self.final_stock_name = 'No stock value'\r\n",
        "\r\n",
        "  def get_question(self):\r\n",
        "    # get question from query\r\n",
        "    temp_query = self.query\r\n",
        "    if self.final_stock_name != 'No stock value':\r\n",
        "      if type(self.final_stock_name) == list:\r\n",
        "        for name in self.final_stock_name:\r\n",
        "          temp_query = temp_query.replace(name, '', 1).strip()\r\n",
        "      else:\r\n",
        "        temp_query = temp_query.replace(self.final_stock_name, '', 1).strip()\r\n",
        "    else:\r\n",
        "      pass\r\n",
        "\r\n",
        "    self.cleaned_question = temp_query.lower()\r\n",
        "    for stop_w in self.th_stopwords:\r\n",
        "      self.cleaned_question.replace(stop_w,'')\r\n",
        "\r\n",
        "  def get_mapping_question(self):\r\n",
        "    # Generate question\r\n",
        "    if self.final_stock_name == 'No stock value':\r\n",
        "      self.general_question.append(self.cleaned_question)\r\n",
        "      tfidf_q = Tfidfvec_q.transform(self.general_question)\r\n",
        "      vals = cosine_similarity(tfidf_q[-1], tfidf_q)\r\n",
        "      idx = vals.argsort()[0][-2]\r\n",
        "      flat = vals.flatten()\r\n",
        "      flat.sort()\r\n",
        "      req_tfidf = flat[-2]\r\n",
        "      if (req_tfidf>=0.3):\r\n",
        "        self.general_answer.append(self.cleaned_question)\r\n",
        "        tfidf_a = Tfidfvec_a.fit_transform(self.general_answer)\r\n",
        "        vals = cosine_similarity(tfidf_a[-1], tfidf_a)\r\n",
        "        idx = vals.argsort()[0][-2]\r\n",
        "        flat = vals.flatten()\r\n",
        "        flat.sort()\r\n",
        "        req_tfidf = flat[-2]\r\n",
        "        if (req_tfidf>=0.3):\r\n",
        "          self.final_question = \"No Answer\"\r\n",
        "        else:\r\n",
        "          self.final_answer = self.general_answer[idx]\r\n",
        "          self.final_question = self.general_answer_cat[idx]\r\n",
        "      else:\r\n",
        "        self.final_answer = self.general_answer[self.general_answer_cat.index(self.general_question_cat[idx])]\r\n",
        "        self.final_question = self.general_question_cat[idx]\r\n",
        "      self.general_question.remove(self.cleaned_question)\r\n",
        "    else:\r\n",
        "      match = process.extractOne(self.cleaned_question.lower(), self.question)[0]\r\n",
        "      match_index = self.question.index(match)\r\n",
        "      self.final_question = self.question_cat[match_index]\r\n",
        "    \r\n",
        "  def get_result(self):\r\n",
        "    # output result\r\n",
        "    if self.final_stock_name == 'No stock value':\r\n",
        "      if self.final_question == \"No Answer\":\r\n",
        "        print(\"น้องมีเงิน: ขอโทษที มีเงินไม่เข้าใจ\")\r\n",
        "      else:\r\n",
        "        print(\"น้องมีเงิน: ไปหาคำตอบมาให้แล้วนะ\")\r\n",
        "        print(self.final_answer)\r\n",
        "    else:\r\n",
        "      temp_df = self.answer_df.copy()\r\n",
        "      try:\r\n",
        "        if self.final_stock_name == '':\r\n",
        "          print('น้องมีเงิน: กรุณาตรวจสอบรหัสให้ถูกต้อง')\r\n",
        "        else:\r\n",
        "          if type(self.final_stock_name) == str:\r\n",
        "            search_symbol = [self.final_stock_name]\r\n",
        "          search_col = ['symbol'] + [self.final_question]\r\n",
        "          final_result = temp_df[temp_df['symbol'].isin(self.final_stock_name)][search_col]\r\n",
        "          print('น้องมีเงิน: ดูค่า \"'+self.query+'\" ได้ที่นี่เลย')\r\n",
        "          display(final_result)\r\n",
        "      except ValueError:\r\n",
        "        print('น้องมีเงิน: กรุณาตรวจสอบรหัสให้ถูกต้อง')\r\n",
        "\r\n",
        "  def greeting(self):\r\n",
        "    # for greeting message\r\n",
        "    greeting_input = (\"hello\", \"hi\", \"hey\", \"สวัสดี\", \"ซาหวัดดี\", \"ดี\", \"หวัดดี\", \"ดีจ้า\", \"ไง\", \"ว่าไง\", \"เฮ้\", \"ฮัลโหล\", \"งาย\", \"โหล\", \"ทักครับ\", \"ทักค่ะ\", \"ภาหมี\")\r\n",
        "    greeting_output = [\"หวัดดีจ้า\", \"สวัสดีจ้า\", \"สวัสดี\", \"ว่าไงคร้าบ\", \"ทักจ้ะ\", \"ดีใจจังมีคนคุยด้วย\"]\r\n",
        "    for word in self.query.split():\r\n",
        "        if word.lower() in greeting_input:\r\n",
        "            return random.choice(greeting_output)"
      ],
      "execution_count": 2,
      "outputs": []
    },
    {
      "cell_type": "code",
      "metadata": {
        "colab": {
          "base_uri": "https://localhost:8080/"
        },
        "id": "7LsQFw7f_Csu",
        "outputId": "61b9ff1a-e2b3-4840-d8e8-838938525e9a"
      },
      "source": [
        "# NLP Preprocessing\r\n",
        "# from pythainlp.tokenize import sent_tokenize\r\n",
        "from pythainlp.tokenize import word_tokenize\r\n",
        "from pythainlp.util import normalize\r\n",
        "from pythainlp.corpus import thai_stopwords\r\n",
        "import re\r\n",
        "import string\r\n",
        "import io\r\n",
        "import random\r\n",
        "from fuzzywuzzy import fuzz \r\n",
        "from fuzzywuzzy import process\r\n",
        "\r\n",
        "# Manipulate Data\r\n",
        "import numpy as np\r\n",
        "import pandas as pd\r\n",
        "\r\n",
        "#Training TF-IDF\r\n",
        "from sklearn.feature_extraction.text import TfidfVectorizer\r\n",
        "from sklearn.metrics.pairwise import cosine_similarity\r\n",
        "\r\n",
        "# Ignore Error\r\n",
        "import warnings\r\n",
        "warnings.filterwarnings('ignore')\r\n",
        "\r\n",
        "# Load data from Google Drive\r\n",
        "from pydrive.auth import GoogleAuth\r\n",
        "from pydrive.drive import GoogleDrive\r\n",
        "from google.colab import auth\r\n",
        "from oauth2client.client import GoogleCredentials\r\n",
        "auth.authenticate_user()\r\n",
        "gauth = GoogleAuth()\r\n",
        "gauth.credentials = GoogleCredentials.get_application_default()\r\n",
        "drive = GoogleDrive(gauth)"
      ],
      "execution_count": 3,
      "outputs": [
        {
          "output_type": "stream",
          "text": [
            "/usr/local/lib/python3.6/dist-packages/fuzzywuzzy/fuzz.py:11: UserWarning: Using slow pure-python SequenceMatcher. Install python-Levenshtein to remove this warning\n",
            "  warnings.warn('Using slow pure-python SequenceMatcher. Install python-Levenshtein to remove this warning')\n"
          ],
          "name": "stderr"
        }
      ]
    },
    {
      "cell_type": "markdown",
      "metadata": {
        "id": "MdvnKy1b_lmx"
      },
      "source": [
        "## Get Stock Info"
      ]
    },
    {
      "cell_type": "code",
      "metadata": {
        "id": "C2GreKog_V6H"
      },
      "source": [
        "# Load SET factsheet from Google Drive\r\n",
        "file_id = '1KR63nXmtTfKov7rfw_FMI8zQcHAtiKqQ'\r\n",
        "output_name = 'SET_factsheet_20201109_165845.json'\r\n",
        "\r\n",
        "downloaded = drive.CreateFile({'id':file_id})  \r\n",
        "downloaded.GetContentFile(output_name)   "
      ],
      "execution_count": 4,
      "outputs": []
    },
    {
      "cell_type": "code",
      "metadata": {
        "id": "bouzw3-6_ha_"
      },
      "source": [
        "# Read SET facesheet to Pandas Dataframe\r\n",
        "stock_info = pd.read_json('SET_factsheet_20201109_165845.json')\r\n",
        "\r\n",
        "# Prepare SET facesheet Dataframe\r\n",
        "stock_info[['52 week high','52 week low']] = stock_info['52 Week High/Low'].str.split(\"/\",expand=True)\r\n",
        "stock_info.drop(columns =['52 Week High/Low'], inplace = True)\r\n",
        "\r\n",
        "stock_info.columns = ['symbol', 'name', 'market', 'industry', 'sector', 'price',\r\n",
        "                      'p/e', 'p/bv', 'paid-up', 'market cap', 'ev',\r\n",
        "                      'ebitda', 'ev/ebitda', 'url', 'scraped_time', '52 week high',\r\n",
        "                      '52 week low']"
      ],
      "execution_count": 5,
      "outputs": []
    },
    {
      "cell_type": "markdown",
      "metadata": {
        "id": "w4FoTg5M_pm1"
      },
      "source": [
        "## Get General Question"
      ]
    },
    {
      "cell_type": "code",
      "metadata": {
        "id": "M91_lXLd_jnz"
      },
      "source": [
        "# Loat fundamental question and Q&A\r\n",
        "file_id = '1bNJ-qhDE38_hxMBZRXViKFG01_IAtH4U'\r\n",
        "output_name = 'question_mapping.xlsx'\r\n",
        "\r\n",
        "downloaded2 = drive.CreateFile({'id':file_id})  \r\n",
        "downloaded2.GetContentFile(output_name)"
      ],
      "execution_count": 6,
      "outputs": []
    },
    {
      "cell_type": "code",
      "metadata": {
        "id": "WUeM1Qgl_tcD"
      },
      "source": [
        "# Read fundamental question and Q&A to Pandas Dataframe\r\n",
        "question_stock_mapping = pd.read_excel('question_mapping.xlsx',sheet_name='Stock Question')\r\n",
        "answer_general_mapping = pd.read_excel('question_mapping.xlsx',sheet_name='General Question')\r\n",
        "question_general_mapping = pd.read_excel('question_mapping.xlsx',sheet_name='General Question Mapping')"
      ],
      "execution_count": 7,
      "outputs": []
    },
    {
      "cell_type": "code",
      "metadata": {
        "colab": {
          "base_uri": "https://localhost:8080/",
          "height": 560
        },
        "id": "KbSAmvyE_uxp",
        "outputId": "5738b447-35b1-4727-ad39-802b3aecdd6c"
      },
      "source": [
        "display(question_stock_mapping.head())\r\n",
        "display(answer_general_mapping.head())\r\n",
        "display(question_general_mapping.head())"
      ],
      "execution_count": 8,
      "outputs": [
        {
          "output_type": "display_data",
          "data": {
            "text/html": [
              "<div>\n",
              "<style scoped>\n",
              "    .dataframe tbody tr th:only-of-type {\n",
              "        vertical-align: middle;\n",
              "    }\n",
              "\n",
              "    .dataframe tbody tr th {\n",
              "        vertical-align: top;\n",
              "    }\n",
              "\n",
              "    .dataframe thead th {\n",
              "        text-align: right;\n",
              "    }\n",
              "</style>\n",
              "<table border=\"1\" class=\"dataframe\">\n",
              "  <thead>\n",
              "    <tr style=\"text-align: right;\">\n",
              "      <th></th>\n",
              "      <th>question_cat</th>\n",
              "      <th>question</th>\n",
              "    </tr>\n",
              "  </thead>\n",
              "  <tbody>\n",
              "    <tr>\n",
              "      <th>0</th>\n",
              "      <td>name</td>\n",
              "      <td>คือบริษัท</td>\n",
              "    </tr>\n",
              "    <tr>\n",
              "      <th>1</th>\n",
              "      <td>name</td>\n",
              "      <td>ชื่อบริษัท</td>\n",
              "    </tr>\n",
              "    <tr>\n",
              "      <th>2</th>\n",
              "      <td>name</td>\n",
              "      <td>คือ</td>\n",
              "    </tr>\n",
              "    <tr>\n",
              "      <th>3</th>\n",
              "      <td>name</td>\n",
              "      <td>บริษัท</td>\n",
              "    </tr>\n",
              "    <tr>\n",
              "      <th>4</th>\n",
              "      <td>name</td>\n",
              "      <td>มีชื่อว่า</td>\n",
              "    </tr>\n",
              "  </tbody>\n",
              "</table>\n",
              "</div>"
            ],
            "text/plain": [
              "  question_cat    question\n",
              "0         name   คือบริษัท\n",
              "1         name  ชื่อบริษัท\n",
              "2         name         คือ\n",
              "3         name      บริษัท\n",
              "4         name   มีชื่อว่า"
            ]
          },
          "metadata": {
            "tags": []
          }
        },
        {
          "output_type": "display_data",
          "data": {
            "text/html": [
              "<div>\n",
              "<style scoped>\n",
              "    .dataframe tbody tr th:only-of-type {\n",
              "        vertical-align: middle;\n",
              "    }\n",
              "\n",
              "    .dataframe tbody tr th {\n",
              "        vertical-align: top;\n",
              "    }\n",
              "\n",
              "    .dataframe thead th {\n",
              "        text-align: right;\n",
              "    }\n",
              "</style>\n",
              "<table border=\"1\" class=\"dataframe\">\n",
              "  <thead>\n",
              "    <tr style=\"text-align: right;\">\n",
              "      <th></th>\n",
              "      <th>question</th>\n",
              "      <th>answer</th>\n",
              "    </tr>\n",
              "  </thead>\n",
              "  <tbody>\n",
              "    <tr>\n",
              "      <th>0</th>\n",
              "      <td>PE</td>\n",
              "      <td>Price to Earning : P/E คือ เป็นอัตราส่วนเปรียบ...</td>\n",
              "    </tr>\n",
              "    <tr>\n",
              "      <th>1</th>\n",
              "      <td>PBV</td>\n",
              "      <td>Price to Book Value : P/BV คือ เป็นอัตราส่วนเป...</td>\n",
              "    </tr>\n",
              "    <tr>\n",
              "      <th>2</th>\n",
              "      <td>Dividend</td>\n",
              "      <td>Dividend Yield เงินปันผล คือ เป็นการวัดอัตราผล...</td>\n",
              "    </tr>\n",
              "    <tr>\n",
              "      <th>3</th>\n",
              "      <td>Turnover</td>\n",
              "      <td>Turnover Ratio อัตราการหมุนเวียนการซื้อขาย ใช้...</td>\n",
              "    </tr>\n",
              "    <tr>\n",
              "      <th>4</th>\n",
              "      <td>Net Profit Margin</td>\n",
              "      <td>Net Profit Margin อัตราส่วนกำไรสุทธิ เป็นอัตรา...</td>\n",
              "    </tr>\n",
              "  </tbody>\n",
              "</table>\n",
              "</div>"
            ],
            "text/plain": [
              "            question                                             answer\n",
              "0                 PE  Price to Earning : P/E คือ เป็นอัตราส่วนเปรียบ...\n",
              "1                PBV  Price to Book Value : P/BV คือ เป็นอัตราส่วนเป...\n",
              "2           Dividend  Dividend Yield เงินปันผล คือ เป็นการวัดอัตราผล...\n",
              "3           Turnover  Turnover Ratio อัตราการหมุนเวียนการซื้อขาย ใช้...\n",
              "4  Net Profit Margin  Net Profit Margin อัตราส่วนกำไรสุทธิ เป็นอัตรา..."
            ]
          },
          "metadata": {
            "tags": []
          }
        },
        {
          "output_type": "display_data",
          "data": {
            "text/html": [
              "<div>\n",
              "<style scoped>\n",
              "    .dataframe tbody tr th:only-of-type {\n",
              "        vertical-align: middle;\n",
              "    }\n",
              "\n",
              "    .dataframe tbody tr th {\n",
              "        vertical-align: top;\n",
              "    }\n",
              "\n",
              "    .dataframe thead th {\n",
              "        text-align: right;\n",
              "    }\n",
              "</style>\n",
              "<table border=\"1\" class=\"dataframe\">\n",
              "  <thead>\n",
              "    <tr style=\"text-align: right;\">\n",
              "      <th></th>\n",
              "      <th>question_cat</th>\n",
              "      <th>question</th>\n",
              "    </tr>\n",
              "  </thead>\n",
              "  <tbody>\n",
              "    <tr>\n",
              "      <th>0</th>\n",
              "      <td>PE</td>\n",
              "      <td>P/E คืออะไร</td>\n",
              "    </tr>\n",
              "    <tr>\n",
              "      <th>1</th>\n",
              "      <td>PBV</td>\n",
              "      <td>P/BV คืออะไร</td>\n",
              "    </tr>\n",
              "    <tr>\n",
              "      <th>2</th>\n",
              "      <td>Dividend</td>\n",
              "      <td>เงินปันผลคืออะไร</td>\n",
              "    </tr>\n",
              "    <tr>\n",
              "      <th>3</th>\n",
              "      <td>Dividend</td>\n",
              "      <td>Dividend คืออะไร</td>\n",
              "    </tr>\n",
              "    <tr>\n",
              "      <th>4</th>\n",
              "      <td>Turnover</td>\n",
              "      <td>Turnover คืออะไร</td>\n",
              "    </tr>\n",
              "  </tbody>\n",
              "</table>\n",
              "</div>"
            ],
            "text/plain": [
              "  question_cat          question\n",
              "0           PE       P/E คืออะไร\n",
              "1          PBV      P/BV คืออะไร\n",
              "2     Dividend  เงินปันผลคืออะไร\n",
              "3     Dividend  Dividend คืออะไร\n",
              "4     Turnover  Turnover คืออะไร"
            ]
          },
          "metadata": {
            "tags": []
          }
        }
      ]
    },
    {
      "cell_type": "markdown",
      "metadata": {
        "id": "Za-t7UVABGXN"
      },
      "source": [
        "## TF-IDF For matching Q&A"
      ]
    },
    {
      "cell_type": "code",
      "metadata": {
        "colab": {
          "base_uri": "https://localhost:8080/"
        },
        "id": "f8SkQbnT_z1c",
        "outputId": "24cac845-e783-430f-b3e7-17941f6c98dc"
      },
      "source": [
        "# Fit TFIDF Vertorizer for Q&A - Question\r\n",
        "Tfidfvec_q = TfidfVectorizer(encoding='utf-8')\r\n",
        "Tfidfvec_q.fit(question_general_mapping['question'].values.tolist())\r\n",
        "\r\n",
        "# Fit TFIDF Vertorizer for Q&A - Answer\r\n",
        "Tfidfvec_a = TfidfVectorizer(encoding='utf-8')\r\n",
        "Tfidfvec_a.fit(answer_general_mapping['question'].values.tolist())"
      ],
      "execution_count": 9,
      "outputs": [
        {
          "output_type": "execute_result",
          "data": {
            "text/plain": [
              "TfidfVectorizer(analyzer='word', binary=False, decode_error='strict',\n",
              "                dtype=<class 'numpy.float64'>, encoding='utf-8',\n",
              "                input='content', lowercase=True, max_df=1.0, max_features=None,\n",
              "                min_df=1, ngram_range=(1, 1), norm='l2', preprocessor=None,\n",
              "                smooth_idf=True, stop_words=None, strip_accents=None,\n",
              "                sublinear_tf=False, token_pattern='(?u)\\\\b\\\\w\\\\w+\\\\b',\n",
              "                tokenizer=None, use_idf=True, vocabulary=None)"
            ]
          },
          "metadata": {
            "tags": []
          },
          "execution_count": 9
        }
      ]
    },
    {
      "cell_type": "markdown",
      "metadata": {
        "id": "VBauqcrdBMuS"
      },
      "source": [
        "## Chatbot"
      ]
    },
    {
      "cell_type": "code",
      "metadata": {
        "colab": {
          "base_uri": "https://localhost:8080/",
          "height": 815
        },
        "id": "0BDBGgn4_2BX",
        "outputId": "839a4e34-33e4-4091-8668-b9928ec8fd45"
      },
      "source": [
        "sis = StockInfoSearch(all_symbol = stock_info['symbol'].unique(), question_cat =  question_stock_mapping['question_cat'].values.tolist(),\r\n",
        "                      question  = question_stock_mapping['question'].values.tolist(),\r\n",
        "                      general_question_cat = question_general_mapping['question_cat'].values.tolist(),\r\n",
        "                      general_question = question_general_mapping['question'].values.tolist(), \r\n",
        "                      general_answer_cat = answer_general_mapping['question'].values.tolist(), \r\n",
        "                      general_answer = answer_general_mapping['answer'].values.tolist(),\r\n",
        "                      answer_df = stock_info,\r\n",
        "                      Tfidfvec_q = Tfidfvec_q, Tfidfvec_a = Tfidfvec_a)\r\n",
        "\r\n",
        "flag=True\r\n",
        "print(\"น้องมีเงิน: สวัสดี เราเป็น Chatbot ด้านหุ้น\\n-> ถ้าอยากถามเราเกี่ยวกับรายละเอียดของหุ้น พิมพ์ชื่อหุ้น และคำถามที่ต้องการถามได้เลย เช่น 'PTT ราคาเท่าไร'\\n-> หรือถ้ามีคำถามอื่นๆเกี่ยวกับเรื่องหุ้น ถามมาได้เลย เดี๋ยวมีเงินไปหามาให้\\nแต่ถ้าไม่อยากคุยกับเราแล้ว พิมพ์ว่า 'ไปละ' มาได้เลย\")\r\n",
        "while(flag==True):\r\n",
        "    user_response = input(\"User: \")\r\n",
        "    if user_response!='ไปละ':\r\n",
        "        if user_response in ['ขอบคุณ','แต้งกิ้ว','thanks','thank you']:\r\n",
        "            flag=False\r\n",
        "            print(\"น้องมีเงิน: ไม่เป็นไรจ้า\")\r\n",
        "        else:\r\n",
        "            sis.get_query(user_response)\r\n",
        "            if sis.greeting()!=None:\r\n",
        "                print(\"น้องมีเงิน: \"+sis.greeting())\r\n",
        "            else:\r\n",
        "                sis.get_stock_name()\r\n",
        "                sis.get_question()\r\n",
        "                sis.get_mapping_question()\r\n",
        "                sis.get_result()\r\n",
        "            print(\"น้องมีเงิน: ถ้ามีคำถามอื่นอีกบอกมาได้เลยน้าาา แต่ถ้าไม่อยากคุยกับเราแล้ว พิมพ์ว่า 'ไปละ' มาได้เลย\")\r\n",
        "    else:\r\n",
        "        flag=False\r\n",
        "        print(\"น้องมีเงิน: บะบายจ้า\")"
      ],
      "execution_count": 11,
      "outputs": [
        {
          "output_type": "stream",
          "text": [
            "น้องมีเงิน: สวัสดี เราเป็น Chatbot ด้านหุ้น\n",
            "-> ถ้าอยากถามเราเกี่ยวกับรายละเอียดของหุ้น พิมพ์ชื่อหุ้น และคำถามที่ต้องการถามได้เลย เช่น 'PTT ราคาเท่าไร'\n",
            "-> หรือถ้ามีคำถามอื่นๆเกี่ยวกับเรื่องหุ้น ถามมาได้เลย เดี๋ยวมีเงินไปหามาให้\n",
            "แต่ถ้าไม่อยากคุยกับเราแล้ว พิมพ์ว่า 'ไปละ' มาได้เลย\n",
            "User: kbank price\n",
            "น้องมีเงิน: ดูค่า \"KBANK PRICE\" ได้ที่นี่เลย\n"
          ],
          "name": "stdout"
        },
        {
          "output_type": "display_data",
          "data": {
            "text/html": [
              "<div>\n",
              "<style scoped>\n",
              "    .dataframe tbody tr th:only-of-type {\n",
              "        vertical-align: middle;\n",
              "    }\n",
              "\n",
              "    .dataframe tbody tr th {\n",
              "        vertical-align: top;\n",
              "    }\n",
              "\n",
              "    .dataframe thead th {\n",
              "        text-align: right;\n",
              "    }\n",
              "</style>\n",
              "<table border=\"1\" class=\"dataframe\">\n",
              "  <thead>\n",
              "    <tr style=\"text-align: right;\">\n",
              "      <th></th>\n",
              "      <th>symbol</th>\n",
              "      <th>price</th>\n",
              "    </tr>\n",
              "  </thead>\n",
              "  <tbody>\n",
              "    <tr>\n",
              "      <th>310</th>\n",
              "      <td>KBANK</td>\n",
              "      <td>80.25</td>\n",
              "    </tr>\n",
              "  </tbody>\n",
              "</table>\n",
              "</div>"
            ],
            "text/plain": [
              "    symbol  price\n",
              "310  KBANK  80.25"
            ]
          },
          "metadata": {
            "tags": []
          }
        },
        {
          "output_type": "stream",
          "text": [
            "น้องมีเงิน: ถ้ามีคำถามอื่นอีกบอกมาได้เลยน้าาา แต่ถ้าไม่อยากคุยกับเราแล้ว พิมพ์ว่า 'ไปละ' มาได้เลย\n",
            "User: aot pe\n",
            "น้องมีเงิน : ต้องการดูหุ้นที่ชื่อว่า PE กด 1 \n",
            "ต้องการดู Price to Earning (P/E) กด 2\n",
            "หยุดการทำงาน กด enter\n",
            "2\n",
            "น้องมีเงิน: ดูค่า \"AOT PE\" ได้ที่นี่เลย\n"
          ],
          "name": "stdout"
        },
        {
          "output_type": "display_data",
          "data": {
            "text/html": [
              "<div>\n",
              "<style scoped>\n",
              "    .dataframe tbody tr th:only-of-type {\n",
              "        vertical-align: middle;\n",
              "    }\n",
              "\n",
              "    .dataframe tbody tr th {\n",
              "        vertical-align: top;\n",
              "    }\n",
              "\n",
              "    .dataframe thead th {\n",
              "        text-align: right;\n",
              "    }\n",
              "</style>\n",
              "<table border=\"1\" class=\"dataframe\">\n",
              "  <thead>\n",
              "    <tr style=\"text-align: right;\">\n",
              "      <th></th>\n",
              "      <th>symbol</th>\n",
              "      <th>p/e</th>\n",
              "    </tr>\n",
              "  </thead>\n",
              "  <tbody>\n",
              "    <tr>\n",
              "      <th>44</th>\n",
              "      <td>AOT</td>\n",
              "      <td>60.47</td>\n",
              "    </tr>\n",
              "  </tbody>\n",
              "</table>\n",
              "</div>"
            ],
            "text/plain": [
              "   symbol    p/e\n",
              "44    AOT  60.47"
            ]
          },
          "metadata": {
            "tags": []
          }
        },
        {
          "output_type": "stream",
          "text": [
            "น้องมีเงิน: ถ้ามีคำถามอื่นอีกบอกมาได้เลยน้าาา แต่ถ้าไม่อยากคุยกับเราแล้ว พิมพ์ว่า 'ไปละ' มาได้เลย\n",
            "User: scc market cap\n",
            "น้องมีเงิน: ดูค่า \"SCC MARKET CAP\" ได้ที่นี่เลย\n"
          ],
          "name": "stdout"
        },
        {
          "output_type": "display_data",
          "data": {
            "text/html": [
              "<div>\n",
              "<style scoped>\n",
              "    .dataframe tbody tr th:only-of-type {\n",
              "        vertical-align: middle;\n",
              "    }\n",
              "\n",
              "    .dataframe tbody tr th {\n",
              "        vertical-align: top;\n",
              "    }\n",
              "\n",
              "    .dataframe thead th {\n",
              "        text-align: right;\n",
              "    }\n",
              "</style>\n",
              "<table border=\"1\" class=\"dataframe\">\n",
              "  <thead>\n",
              "    <tr style=\"text-align: right;\">\n",
              "      <th></th>\n",
              "      <th>symbol</th>\n",
              "      <th>market cap</th>\n",
              "    </tr>\n",
              "  </thead>\n",
              "  <tbody>\n",
              "    <tr>\n",
              "      <th>543</th>\n",
              "      <td>SCC</td>\n",
              "      <td>420,000.00</td>\n",
              "    </tr>\n",
              "  </tbody>\n",
              "</table>\n",
              "</div>"
            ],
            "text/plain": [
              "    symbol  market cap\n",
              "543    SCC  420,000.00"
            ]
          },
          "metadata": {
            "tags": []
          }
        },
        {
          "output_type": "stream",
          "text": [
            "น้องมีเงิน: ถ้ามีคำถามอื่นอีกบอกมาได้เลยน้าาา แต่ถ้าไม่อยากคุยกับเราแล้ว พิมพ์ว่า 'ไปละ' มาได้เลย\n",
            "User: bdms\n"
          ],
          "name": "stdout"
        },
        {
          "output_type": "stream",
          "text": [
            "WARNING:root:Applied processor reduces input query to empty string, all comparisons will have score 0. [Query: '']\n"
          ],
          "name": "stderr"
        },
        {
          "output_type": "stream",
          "text": [
            "น้องมีเงิน: ดูค่า \"BDMS\" ได้ที่นี่เลย\n"
          ],
          "name": "stdout"
        },
        {
          "output_type": "display_data",
          "data": {
            "text/html": [
              "<div>\n",
              "<style scoped>\n",
              "    .dataframe tbody tr th:only-of-type {\n",
              "        vertical-align: middle;\n",
              "    }\n",
              "\n",
              "    .dataframe tbody tr th {\n",
              "        vertical-align: top;\n",
              "    }\n",
              "\n",
              "    .dataframe thead th {\n",
              "        text-align: right;\n",
              "    }\n",
              "</style>\n",
              "<table border=\"1\" class=\"dataframe\">\n",
              "  <thead>\n",
              "    <tr style=\"text-align: right;\">\n",
              "      <th></th>\n",
              "      <th>symbol</th>\n",
              "      <th>name</th>\n",
              "    </tr>\n",
              "  </thead>\n",
              "  <tbody>\n",
              "    <tr>\n",
              "      <th>84</th>\n",
              "      <td>BDMS</td>\n",
              "      <td>บริษัท กรุงเทพดุสิตเวชการ จำกัด(มหาชน)</td>\n",
              "    </tr>\n",
              "  </tbody>\n",
              "</table>\n",
              "</div>"
            ],
            "text/plain": [
              "   symbol                                    name\n",
              "84   BDMS  บริษัท กรุงเทพดุสิตเวชการ จำกัด(มหาชน)"
            ]
          },
          "metadata": {
            "tags": []
          }
        },
        {
          "output_type": "stream",
          "text": [
            "น้องมีเงิน: ถ้ามีคำถามอื่นอีกบอกมาได้เลยน้าาา แต่ถ้าไม่อยากคุยกับเราแล้ว พิมพ์ว่า 'ไปละ' มาได้เลย\n",
            "User: bdms ปันผล\n",
            "น้องมีเงิน: ดูค่า \"BDMS ปันผล\" ได้ที่นี่เลย\n"
          ],
          "name": "stdout"
        },
        {
          "output_type": "display_data",
          "data": {
            "text/html": [
              "<div>\n",
              "<style scoped>\n",
              "    .dataframe tbody tr th:only-of-type {\n",
              "        vertical-align: middle;\n",
              "    }\n",
              "\n",
              "    .dataframe tbody tr th {\n",
              "        vertical-align: top;\n",
              "    }\n",
              "\n",
              "    .dataframe thead th {\n",
              "        text-align: right;\n",
              "    }\n",
              "</style>\n",
              "<table border=\"1\" class=\"dataframe\">\n",
              "  <thead>\n",
              "    <tr style=\"text-align: right;\">\n",
              "      <th></th>\n",
              "      <th>symbol</th>\n",
              "      <th>url</th>\n",
              "    </tr>\n",
              "  </thead>\n",
              "  <tbody>\n",
              "    <tr>\n",
              "      <th>84</th>\n",
              "      <td>BDMS</td>\n",
              "      <td>https://www.set.or.th/set/factsheet.do?symbol=...</td>\n",
              "    </tr>\n",
              "  </tbody>\n",
              "</table>\n",
              "</div>"
            ],
            "text/plain": [
              "   symbol                                                url\n",
              "84   BDMS  https://www.set.or.th/set/factsheet.do?symbol=..."
            ]
          },
          "metadata": {
            "tags": []
          }
        },
        {
          "output_type": "stream",
          "text": [
            "น้องมีเงิน: ถ้ามีคำถามอื่นอีกบอกมาได้เลยน้าาา แต่ถ้าไม่อยากคุยกับเราแล้ว พิมพ์ว่า 'ไปละ' มาได้เลย\n",
            "User: ไปละ\n",
            "น้องมีเงิน: บะบายจ้า\n"
          ],
          "name": "stdout"
        }
      ]
    },
    {
      "cell_type": "code",
      "metadata": {
        "id": "Dy70r4tD_4jy"
      },
      "source": [
        ""
      ],
      "execution_count": null,
      "outputs": []
    }
  ]
}